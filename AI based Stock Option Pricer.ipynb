{
 "cells": [
  {
   "cell_type": "markdown",
   "metadata": {},
   "source": [
    "# Import Modules"
   ]
  },
  {
   "cell_type": "code",
   "execution_count": 20,
   "metadata": {},
   "outputs": [],
   "source": [
    "#import libraries\n",
    "import matplotlib.pyplot as plt\n",
    "plt.style.use('ggplot')\n",
    "import math\n",
    "import numpy as np\n",
    "import pandas as pd\n",
    "import tensorflow as ts\n",
    "from scipy.stats import norm\n",
    "from sklearn.model_selection import train_test_split\n",
    "from keras.models import Sequential\n",
    "from keras.layers import Dense\n",
    "from sklearn.metrics import r2_score"
   ]
  },
  {
   "cell_type": "markdown",
   "metadata": {},
   "source": [
    "### Create Black Scholes for Euro Option"
   ]
  },
  {
   "cell_type": "code",
   "execution_count": 21,
   "metadata": {},
   "outputs": [],
   "source": [
    "class EuropeanOptionBS:\n",
    "\n",
    "    def __init__(self, S, K, T, r, q, sigma,Type):\n",
    "        self.S = S\n",
    "        self.K = K\n",
    "        self.T = T\n",
    "        self.r = r\n",
    "        self.q = q        \n",
    "        self.sigma = sigma\n",
    "        self.Type = Type\n",
    "        self.d1 = self.d1()\n",
    "        self.d2 = self.d2()\n",
    "        self.price = self.price()\n",
    "        \n",
    "    def d1(self):\n",
    "        #\n",
    "        d1 = (math.log(self.S / self.K) \\\n",
    "                   + (self.r - self.q + .5 * (self.sigma ** 2)) * self.T) \\\n",
    "                    / (self.sigma * self.T ** .5)       \n",
    "        return d1\n",
    "\n",
    "    def d2(self):\n",
    "        d2 = self.d1 - self.sigma * self.T ** .5     \n",
    "        return d2\n",
    "    \n",
    "    def price(self):\n",
    "        if self.Type == \"Call\":\n",
    "            price = self.S * math.exp(-self.q * self.T) * norm.cdf(self.d1) \\\n",
    "            - self.K * math.exp(-self.r *self.T) * norm.cdf(self.d2)\n",
    "        if self.Type == \"Put\":\n",
    "            price = self.K * math.exp(-self.r * self.T) * norm.cdf(-self.d2) \\\n",
    "            - self.S * math.exp(-self.q * self.T) * norm.cdf(-self.d1)            \n",
    "        return price"
   ]
  },
  {
   "cell_type": "markdown",
   "metadata": {},
   "source": [
    "## Create Dataset "
   ]
  },
  {
   "cell_type": "code",
   "execution_count": 22,
   "metadata": {},
   "outputs": [],
   "source": [
    "#dataset\n",
    "r = np.arange(.0, .1, .01) #interest rates\n",
    "Strike = np.arange(100, 235, 5) #strike price\n",
    "T = np.arange(0.1, 2.1, 0.1) #time to maturity\n",
    "sigma = np.arange(0.1, 2.1, .1) #volatility\n",
    "\n",
    "data = []\n",
    "for r_ in r:\n",
    "    for Strike_ in Strike:\n",
    "        for T_ in T:\n",
    "            for sigma_ in sigma:\n",
    "                data.append([r_, Strike_, T_, sigma_, \\\n",
    "                             EuropeanOptionBS(100, Strike_, T_, r_, 0, sigma_, \"Call\").price])\n",
    "data = np.asarray(data)\n",
    "\n",
    "#training and test datasets\n",
    "X = data[:,:4] #params r, strike, T, sigma\n",
    "y = data[:,4:5] #call price\n",
    "X_train, X_test, y_train, y_test = train_test_split(X, y, test_size=0.25, random_state=0)"
   ]
  },
  {
   "cell_type": "code",
   "execution_count": 23,
   "metadata": {},
   "outputs": [],
   "source": [
    "## Define Artificial Neural Network"
   ]
  },
  {
   "cell_type": "code",
   "execution_count": null,
   "metadata": {},
   "outputs": [
    {
     "name": "stdout",
     "output_type": "stream",
     "text": [
      "Epoch 1/150\n",
      "81000/81000 [==============================] - 15s 189us/step - loss: 157.3225\n",
      "Epoch 2/150\n",
      "81000/81000 [==============================] - 16s 192us/step - loss: 29.7270\n",
      "Epoch 3/150\n",
      "81000/81000 [==============================] - 16s 196us/step - loss: 28.4073\n",
      "Epoch 4/150\n",
      "81000/81000 [==============================] - 17s 207us/step - loss: 28.0536\n",
      "Epoch 5/150\n",
      "81000/81000 [==============================] - 21s 264us/step - loss: 27.8271\n",
      "Epoch 6/150\n",
      "81000/81000 [==============================] - 25s 306us/step - loss: 27.7409\n",
      "Epoch 7/150\n",
      "81000/81000 [==============================] - 25s 303us/step - loss: 27.3778\n",
      "Epoch 8/150\n",
      "81000/81000 [==============================] - 24s 293us/step - loss: 26.8116\n",
      "Epoch 9/150\n",
      "81000/81000 [==============================] - 24s 298us/step - loss: 25.7891\n",
      "Epoch 10/150\n",
      "81000/81000 [==============================] - 24s 298us/step - loss: 11.9200\n",
      "Epoch 11/150\n",
      "65504/81000 [=======================>......] - ETA: 4s - loss: 4.7813"
     ]
    }
   ],
   "source": [
    "#ANN with four layers, 10 neurons each\n",
    "#activation function: ReLU\n",
    "ANN = Sequential()\n",
    "ANN.add(Dense(10,input_dim = 4, activation = 'relu'))\n",
    "ANN.add(Dense(10, activation = 'relu'))\n",
    "ANN.add(Dense(10, activation = 'relu'))\n",
    "ANN.add(Dense(10, activation = 'relu'))         \n",
    "ANN.add(Dense(1))\n",
    "#Loss function = MSE, optimizer: Adam\n",
    "ANN.compile(loss = 'mean_squared_error', optimizer='adam')\n",
    "# fit the ANN on the training dataset\n",
    "ANN.fit(X_train, y_train, epochs = 150, batch_size = 16)"
   ]
  },
  {
   "cell_type": "code",
   "execution_count": null,
   "metadata": {},
   "outputs": [],
   "source": [
    "#prediction\n",
    "y_pred = ANN.predict(X_test)\n",
    "\n",
    "#Comparison real values and predictions on test dataset\n",
    "plt.figure(figsize = (15,10))\n",
    "plt.scatter(y_test, y_pred)\n",
    "plt.xlabel(\"Real Value\")\n",
    "plt.ylabel(\"ANN Value\")\n",
    "plt.annotate(\"r-squared = {:.3f}\".format(r2_score(y_test, y_pred)), (20, 1), size = 15)\n",
    "plt.show();"
   ]
  },
  {
   "cell_type": "code",
   "execution_count": null,
   "metadata": {},
   "outputs": [],
   "source": [
    "K = 170 #strike price\n",
    "r = 0.05 #risk-free interest rate\n",
    "sigma = .22 #implied volatiltiy\n",
    "T = .5 #time to maturity\n",
    "S = np.arange(50, 250, 1) #asset prices\n",
    "\n",
    "PriceBS = [EuropeanOptionBS(S_, K, T, r, 0, sigma, \"Call\").price for S_ in S]\n",
    "PriceANN = [S_ / 100 * \\\n",
    "            ANN.predict(np.array([[r, K / S_ * 100, T, sigma]]))[0][0] for S_ in S]"
   ]
  },
  {
   "cell_type": "code",
   "execution_count": null,
   "metadata": {},
   "outputs": [],
   "source": [
    "#Comparison BS vs ANN prices\n",
    "plt.figure(figsize = (15,10))\n",
    "plt.plot(S, PriceBS, label = \"Black-Scholes price\")\n",
    "plt.plot(S, PriceANN, label = \"ANN price\")\n",
    "plt.legend(loc=\"upper left\")\n",
    "plt.xlabel(\"Asset Price\")\n",
    "plt.ylabel(\"Call Price\")\n",
    "plt.show()"
   ]
  }
 ],
 "metadata": {
  "kernelspec": {
   "display_name": "Python 3 (ipykernel)",
   "language": "python",
   "name": "python3"
  },
  "language_info": {
   "codemirror_mode": {
    "name": "ipython",
    "version": 3
   },
   "file_extension": ".py",
   "mimetype": "text/x-python",
   "name": "python",
   "nbconvert_exporter": "python",
   "pygments_lexer": "ipython3",
   "version": "3.11.7"
  }
 },
 "nbformat": 4,
 "nbformat_minor": 4
}
